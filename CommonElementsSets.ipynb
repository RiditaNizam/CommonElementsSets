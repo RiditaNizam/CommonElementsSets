{
  "nbformat": 4,
  "nbformat_minor": 0,
  "metadata": {
    "colab": {
      "name": "CommonElementsSets.ipynb",
      "provenance": [],
      "collapsed_sections": [],
      "authorship_tag": "ABX9TyNK3u6ozhAxAu+HZgjXJR9u",
      "include_colab_link": true
    },
    "kernelspec": {
      "name": "python3",
      "display_name": "Python 3"
    },
    "language_info": {
      "name": "python"
    }
  },
  "cells": [
    {
      "cell_type": "markdown",
      "metadata": {
        "id": "view-in-github",
        "colab_type": "text"
      },
      "source": [
        "<a href=\"https://colab.research.google.com/github/RiditaNizam/CommonElementsSets/blob/main/CommonElementsSets.ipynb\" target=\"_parent\"><img src=\"https://colab.research.google.com/assets/colab-badge.svg\" alt=\"Open In Colab\"/></a>"
      ]
    },
    {
      "cell_type": "code",
      "metadata": {
        "colab": {
          "base_uri": "https://localhost:8080/"
        },
        "id": "uNTgn30DrLqV",
        "outputId": "42e81db7-a6a8-4dd1-c698-982bf0100e64"
      },
      "source": [
        "group1 = {\"coral\", \"peach\", \"blush\", \"white\"}\n",
        "group2 = {\"turquoise\", \"white\"}\n",
        "group3 = {\"lavender\", \"white\"}\n",
        "\n",
        "#Common elements using intersection\n",
        "common_intersection = group1.intersection(group2, group3)\n",
        "print(common_intersection)\n",
        "\n",
        "#Common elements using & operator\n",
        "common_elements = group1 & group2 & group3\n",
        "print(common_elements)"
      ],
      "execution_count": 5,
      "outputs": [
        {
          "output_type": "stream",
          "text": [
            "{'white'}\n",
            "{'white'}\n"
          ],
          "name": "stdout"
        }
      ]
    }
  ]
}